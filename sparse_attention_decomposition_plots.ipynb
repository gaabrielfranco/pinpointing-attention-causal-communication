{
 "cells": [
  {
   "cell_type": "code",
   "execution_count": 7,
   "id": "7674e15e",
   "metadata": {},
   "outputs": [],
   "source": [
    "import h5py\n",
    "import pandas as pd\n",
    "\n",
    "import matplotlib\n",
    "import seaborn as sns\n",
    "import matplotlib.pyplot as plt\n",
    "\n",
    "matplotlib.rcParams['pdf.fonttype'] = 42\n",
    "matplotlib.rcParams['ps.fonttype'] = 42\n",
    "plt.rc('font', size=8)"
   ]
  },
  {
   "cell_type": "code",
   "execution_count": 8,
   "id": "ec1dcf61",
   "metadata": {},
   "outputs": [],
   "source": [
    "AHS = {\n",
    "    \"ioi\": {\n",
    "        \"gpt2-small\": [(8, 6), (4, 11), (3, 0), (9, 9), (9, 6), (10, 0)],\n",
    "        \"pythia-160m\": [(2,6), (4,11), (7,9), (8,2), (8,10), (10,7)],\n",
    "        \"gemma-2-2b\": [(12, 7), (10, 0), (2, 5), (3, 0), (10, 3)] # Top-5 most active heads \n",
    "    },\n",
    "    \"gp\": {\n",
    "        \"gpt2-small\": [(10, 9), (9, 7), (4, 3), (1, 10)],\n",
    "        \"pythia-160m\": [(3, 2), (9, 3), (1, 2), (2, 11), (11, 9)], # Top-5 most active heads,\n",
    "        \"gemma-2-2b\": [(12, 7), (3, 0), (21, 4), (2, 5), (2, 6)] # Top-5 most active heads,\n",
    "    },\n",
    "    \"gt\": {\n",
    "        \"gpt2-small\": [(5,5), (6,1), (6,9), (7,10), (8,11), (9,1)],\n",
    "        \"pythia-160m\": [(3, 2), (3, 0), (1, 7), (3, 1), (1, 2)], # Top-5 most active heads \n",
    "    }\n",
    "}\n",
    "\n",
    "ranks = {\n",
    "    \"gpt2-small\": 64,\n",
    "    \"pythia-160m\": 64,\n",
    "    \"gemma-2-2b\": 256\n",
    "}"
   ]
  },
  {
   "cell_type": "code",
   "execution_count": 9,
   "id": "742654d5",
   "metadata": {},
   "outputs": [
    {
     "name": "stdout",
     "output_type": "stream",
     "text": [
      "gpt2-small ioi\n",
      "pythia-160m ioi\n",
      "gemma-2-2b ioi\n",
      "gpt2-small gp\n",
      "pythia-160m gp\n",
      "gemma-2-2b gp\n",
      "gpt2-small gt\n",
      "pythia-160m gt\n"
     ]
    }
   ],
   "source": [
    "for task in AHS:\n",
    "    for model in AHS[task]:\n",
    "        print(model, task)\n",
    "        n_prompts = 256 if task in [\"ioi\", \"gt\"] else 100\n",
    "\n",
    "        filename = f\"tracing_results/{model}_{task}_{n_prompts}_0.hdf5\"\n",
    "\n",
    "        AHS_TASK = AHS[task][model]\n",
    "        AHS_data = {x: [] for x in AHS_TASK}\n",
    "\n",
    "        with h5py.File(filename, \"r\") as f:\n",
    "            for key in f.keys():\n",
    "                if key.startswith(\"svs_used_decomp\"):\n",
    "                    _, layer, ah_idx, _, _, = eval(key.split(\"_\")[-1])\n",
    "                    if len(f[key][:]) > 0: # Cases where we did trace.\n",
    "                        if (layer, ah_idx) in AHS_TASK:\n",
    "                            AHS_data[layer, ah_idx].append(len(f[key][:]))\n",
    "\n",
    "        df = pd.DataFrame([(f\"AH{key}\", value) for key, values in AHS_data.items() for value in values],\n",
    "                  columns=['AH', 'n_svs'])\n",
    "        \n",
    "        fig, ax = plt.subplots(1, 1, figsize=(3, 1.9), sharey=True, sharex=True)\n",
    "        if task == \"gp\" and model == \"pythia-160m\":\n",
    "            bw_method = 0.5\n",
    "        else:\n",
    "            bw_method = 0.3\n",
    "        sns.kdeplot(df, x=\"n_svs\", hue=\"AH\", bw_method = bw_method, alpha=0.75 ,linewidth=1.5, ax=ax, common_norm=False);\n",
    "        plt.xlabel(\"Number of singular vectors in \" + r\"$|S^{\\ell ads}|$\");\n",
    "        plt.xlim(0)\n",
    "        # Edit the legend\n",
    "        legend = ax.get_legend()\n",
    "        legend.set_title(None)\n",
    "        for text in legend.get_texts():\n",
    "            text.set_fontsize(8)\n",
    "        plt.tight_layout();\n",
    "        plt.savefig(f'figures/sparse_attn_decomp/n_svs_{model}_{task}.pdf', bbox_inches='tight', dpi=800);\n",
    "        plt.close()"
   ]
  },
  {
   "cell_type": "code",
   "execution_count": 10,
   "id": "613e42a4",
   "metadata": {},
   "outputs": [],
   "source": [
    "# General results plots"
   ]
  },
  {
   "cell_type": "code",
   "execution_count": 11,
   "id": "5a2b2563",
   "metadata": {},
   "outputs": [],
   "source": [
    "for task in AHS.keys():\n",
    "    data = {}\n",
    "    for model in AHS[task]:\n",
    "        n_prompts = 256 if task in [\"ioi\", \"gt\"] else 100\n",
    "\n",
    "        rank = ranks[model]\n",
    "\n",
    "        filename = f\"tracing_results/{model}_{task}_{n_prompts}_0.hdf5\"\n",
    "\n",
    "        data[model] = []\n",
    "\n",
    "        with h5py.File(filename, \"r\") as f:\n",
    "            for key in f.keys():\n",
    "                if key.startswith(\"svs_used_decomp\"):\n",
    "                    _, layer, ah_idx, _, _, = eval(key.split(\"_\")[-1])\n",
    "                    if len(f[key][:]) > 0: # Cases where we did trace.\n",
    "                        data[model].append(len(f[key][:]) / rank) # fraction of the available SVs\n",
    "\n",
    "    df_total = pd.DataFrame([(key, value) for key, values in data.items() for value in values],\n",
    "                    columns=['model', 'n_svs'])\n",
    "\n",
    "    fig, ax = plt.subplots(1, 1, figsize=(3,1.9), sharey=True, sharex=True)\n",
    "    sns.kdeplot(df_total, x=\"n_svs\", hue=\"model\", bw_method = 0.25, alpha=0.75 ,linewidth=1.5, ax=ax, common_norm=False);\n",
    "    plt.xlabel(\"Fraction of singular vectors in \" + r\"$S^{\\ell ads}$\");\n",
    "    plt.xlim(0)\n",
    "    # Edit the legend\n",
    "    legend = ax.get_legend()\n",
    "    legend.set_title(None)\n",
    "    for text in legend.get_texts():\n",
    "        text.set_fontsize(8)\n",
    "    plt.tight_layout();\n",
    "    plt.savefig(f'figures/sparse_attn_decomp/distribution_n-svs_{task}.pdf', bbox_inches='tight', dpi=800);\n",
    "    plt.close()"
   ]
  },
  {
   "cell_type": "code",
   "execution_count": null,
   "id": "82940fd3",
   "metadata": {},
   "outputs": [],
   "source": []
  }
 ],
 "metadata": {
  "kernelspec": {
   "display_name": "svd-mi",
   "language": "python",
   "name": "python3"
  },
  "language_info": {
   "codemirror_mode": {
    "name": "ipython",
    "version": 3
   },
   "file_extension": ".py",
   "mimetype": "text/x-python",
   "name": "python",
   "nbconvert_exporter": "python",
   "pygments_lexer": "ipython3",
   "version": "3.10.14"
  }
 },
 "nbformat": 4,
 "nbformat_minor": 5
}
